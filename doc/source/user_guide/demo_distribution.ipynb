{
 "cells": [
  {
   "cell_type": "markdown",
   "id": "841eb7ff-1148-401a-ae0f-1f1159475a26",
   "metadata": {},
   "source": [
    "# Distribution model"
   ]
  },
  {
   "cell_type": "markdown",
   "id": "b2c057ea-ec10-409d-814c-0809549f1375",
   "metadata": {},
   "source": [
    "Import the necessary functionalities from Relife"
   ]
  },
  {
   "cell_type": "code",
   "execution_count": 1,
   "id": "1f3d011e-9abd-4d21-bf19-8b736fcd870b",
   "metadata": {},
   "outputs": [],
   "source": [
    "import numpy as np\n",
    "import matplotlib.pyplot as plt\n",
    "from relife.lifetime_model import Weibull, Gompertz\n",
    "from relife.data import load_circuit_breaker"
   ]
  },
  {
   "cell_type": "markdown",
   "id": "36125794-05b8-49f5-af95-747191ffacae",
   "metadata": {},
   "source": [
    "Here is a toy datasets that contains the following 15 first data"
   ]
  },
  {
   "cell_type": "code",
   "execution_count": 2,
   "id": "4a15f977-6795-4fb6-b830-8bde36f18770",
   "metadata": {},
   "outputs": [
    {
     "data": {
      "text/html": [
       "<div>\n",
       "<style scoped>\n",
       "    .dataframe tbody tr th:only-of-type {\n",
       "        vertical-align: middle;\n",
       "    }\n",
       "\n",
       "    .dataframe tbody tr th {\n",
       "        vertical-align: top;\n",
       "    }\n",
       "\n",
       "    .dataframe thead th {\n",
       "        text-align: right;\n",
       "    }\n",
       "</style>\n",
       "<table border=\"1\" class=\"dataframe\">\n",
       "  <thead>\n",
       "    <tr style=\"text-align: right;\">\n",
       "      <th></th>\n",
       "      <th>time</th>\n",
       "      <th>event</th>\n",
       "      <th>entry</th>\n",
       "    </tr>\n",
       "  </thead>\n",
       "  <tbody>\n",
       "    <tr>\n",
       "      <th>0</th>\n",
       "      <td>34.0</td>\n",
       "      <td>1.0</td>\n",
       "      <td>33.0</td>\n",
       "    </tr>\n",
       "    <tr>\n",
       "      <th>1</th>\n",
       "      <td>28.0</td>\n",
       "      <td>1.0</td>\n",
       "      <td>27.0</td>\n",
       "    </tr>\n",
       "    <tr>\n",
       "      <th>2</th>\n",
       "      <td>12.0</td>\n",
       "      <td>1.0</td>\n",
       "      <td>11.0</td>\n",
       "    </tr>\n",
       "  </tbody>\n",
       "</table>\n",
       "</div>"
      ],
      "text/plain": [
       "   time  event  entry\n",
       "0  34.0    1.0   33.0\n",
       "1  28.0    1.0   27.0\n",
       "2  12.0    1.0   11.0"
      ]
     },
     "metadata": {},
     "output_type": "display_data"
    }
   ],
   "source": [
    "import pandas as pd\n",
    "\n",
    "time, event, entry = load_circuit_breaker()\n",
    "data = pd.DataFrame({\"time\": time, \"event\": event, \"entry\": entry})\n",
    "display(data.head(n=3))"
   ]
  },
  {
   "cell_type": "markdown",
   "id": "6239abae-bb58-4fc4-8720-d2a58575f4b6",
   "metadata": {},
   "source": [
    "## Basics"
   ]
  },
  {
   "cell_type": "markdown",
   "id": "6799db0f-17ea-4b6e-9799-3001e8f0452d",
   "metadata": {},
   "source": [
    "One can instanciate a Weibull distribution model as follow"
   ]
  },
  {
   "cell_type": "code",
   "execution_count": 3,
   "id": "409ef0ea-2136-45b4-a5cc-daf82c199a6c",
   "metadata": {},
   "outputs": [],
   "source": [
    "weibull = Weibull()"
   ]
  },
  {
   "cell_type": "markdown",
   "id": "660dde27-04f2-4acd-95b7-3150fe3db1c6",
   "metadata": {},
   "source": [
    "From now, the model parameters are unknow, thus set to `np.nan`"
   ]
  },
  {
   "cell_type": "code",
   "execution_count": 4,
   "id": "6501bce4-4d9d-495f-80d3-14bb290ec6f2",
   "metadata": {},
   "outputs": [
    {
     "name": "stdout",
     "output_type": "stream",
     "text": [
      "['shape', 'rate']\n",
      "[None None]\n"
     ]
    }
   ],
   "source": [
    "print(weibull.params_names)\n",
    "print(weibull.params)"
   ]
  },
  {
   "cell_type": "markdown",
   "id": "10cc5d32-5b64-4c4b-b9ff-43aa8cc360b6",
   "metadata": {},
   "source": [
    "## Parameters estimations"
   ]
  },
  {
   "cell_type": "markdown",
   "id": "f260a79c-4148-4039-8d87-bc40b2c98e8f",
   "metadata": {},
   "source": [
    "One can fit the model. You can either return a new fitted instance or fit the model inplace"
   ]
  },
  {
   "cell_type": "code",
   "execution_count": 5,
   "id": "46c0483b-1466-4c2a-a064-aee14962859c",
   "metadata": {},
   "outputs": [
    {
     "name": "stdout",
     "output_type": "stream",
     "text": [
      "Estimated parameters are : [3.7267452  0.01232326]\n"
     ]
    }
   ],
   "source": [
    "weibull = weibull.fit(time, event, entry)\n",
    "print(\"Estimated parameters are :\", weibull.params)"
   ]
  },
  {
   "cell_type": "code",
   "execution_count": 6,
   "id": "fa803b06-7f7e-4740-ad5d-48a84ac84702",
   "metadata": {},
   "outputs": [
    {
     "data": {
      "text/plain": [
       "FittingResults(params=array([3.7267452 , 0.01232326]), nb_params=2, AIC=np.float64(2493.721978543718), AICc=np.float64(2493.7248350064647), BIC=np.float64(2506.4095620077114))"
      ]
     },
     "execution_count": 6,
     "metadata": {},
     "output_type": "execute_result"
    }
   ],
   "source": [
    "weibull.fitting_results"
   ]
  },
  {
   "cell_type": "markdown",
   "id": "ddd2c459-603e-465f-b761-1bc6e67f6caf",
   "metadata": {},
   "source": [
    "## Plots"
   ]
  },
  {
   "cell_type": "markdown",
   "id": "fed34c27-efd7-407b-a1b6-7239ce93a220",
   "metadata": {},
   "source": [
    "To plot the survival function, do the following"
   ]
  },
  {
   "cell_type": "code",
   "execution_count": 7,
   "id": "84a64ff4-9096-4138-a1f8-5c6187231c3d",
   "metadata": {},
   "outputs": [
    {
     "ename": "ImportError",
     "evalue": "cannot import name 'Distribution' from 'relife.lifetime_model._base' (/home/grisonwil/Projects/SAGA/relife/relife/lifetime_model/_base.py)",
     "output_type": "error",
     "traceback": [
      "\u001b[0;31m---------------------------------------------------------------------------\u001b[0m",
      "\u001b[0;31mImportError\u001b[0m                               Traceback (most recent call last)",
      "Cell \u001b[0;32mIn[7], line 2\u001b[0m\n\u001b[1;32m      1\u001b[0m \u001b[38;5;28;01mimport\u001b[39;00m\u001b[38;5;250m \u001b[39m\u001b[38;5;21;01mmatplotlib\u001b[39;00m\u001b[38;5;21;01m.\u001b[39;00m\u001b[38;5;21;01mpyplot\u001b[39;00m\u001b[38;5;250m \u001b[39m\u001b[38;5;28;01mas\u001b[39;00m\u001b[38;5;250m \u001b[39m\u001b[38;5;21;01mplt\u001b[39;00m\n\u001b[0;32m----> 2\u001b[0m \u001b[43mweibull\u001b[49m\u001b[38;5;241;43m.\u001b[39;49m\u001b[43mplot\u001b[49m\u001b[38;5;241;43m.\u001b[39;49m\u001b[43msf\u001b[49m()\n\u001b[1;32m      3\u001b[0m plt\u001b[38;5;241m.\u001b[39mshow()\n",
      "File \u001b[0;32m~/Projects/SAGA/relife/relife/_plots.py:261\u001b[0m, in \u001b[0;36mPlotDescriptor.__get__\u001b[0;34m(self, obj, objtype)\u001b[0m\n\u001b[1;32m    260\u001b[0m \u001b[38;5;28;01mdef\u001b[39;00m\u001b[38;5;250m \u001b[39m\u001b[38;5;21m__get__\u001b[39m(\u001b[38;5;28mself\u001b[39m, obj, objtype\u001b[38;5;241m=\u001b[39m\u001b[38;5;28;01mNone\u001b[39;00m):\n\u001b[0;32m--> 261\u001b[0m     \u001b[38;5;28;01mfrom\u001b[39;00m\u001b[38;5;250m \u001b[39m\u001b[38;5;21;01mrelife\u001b[39;00m\u001b[38;5;21;01m.\u001b[39;00m\u001b[38;5;21;01mlifetime_model\u001b[39;00m\u001b[38;5;21;01m.\u001b[39;00m\u001b[38;5;21;01m_base\u001b[39;00m\u001b[38;5;250m \u001b[39m\u001b[38;5;28;01mimport\u001b[39;00m Distribution, Regression\n\u001b[1;32m    262\u001b[0m     \u001b[38;5;28;01mfrom\u001b[39;00m\u001b[38;5;250m \u001b[39m\u001b[38;5;21;01mrelife\u001b[39;00m\u001b[38;5;21;01m.\u001b[39;00m\u001b[38;5;21;01mmodel\u001b[39;00m\u001b[38;5;250m \u001b[39m\u001b[38;5;28;01mimport\u001b[39;00m NonParametricLifetimeModel\n\u001b[1;32m    263\u001b[0m     \u001b[38;5;28;01mfrom\u001b[39;00m\u001b[38;5;250m \u001b[39m\u001b[38;5;21;01mrelife\u001b[39;00m\u001b[38;5;21;01m.\u001b[39;00m\u001b[38;5;21;01msample\u001b[39;00m\u001b[38;5;250m \u001b[39m\u001b[38;5;28;01mimport\u001b[39;00m CountData, NHPPCountData, RenewalData\n",
      "\u001b[0;31mImportError\u001b[0m: cannot import name 'Distribution' from 'relife.lifetime_model._base' (/home/grisonwil/Projects/SAGA/relife/relife/lifetime_model/_base.py)"
     ]
    }
   ],
   "source": [
    "import matplotlib.pyplot as plt\n",
    "weibull.plot.sf()\n",
    "plt.show()"
   ]
  }
 ],
 "metadata": {
  "kernelspec": {
   "display_name": "Python 3 (ipykernel)",
   "language": "python",
   "name": "python3"
  },
  "language_info": {
   "codemirror_mode": {
    "name": "ipython",
    "version": 3
   },
   "file_extension": ".py",
   "mimetype": "text/x-python",
   "name": "python",
   "nbconvert_exporter": "python",
   "pygments_lexer": "ipython3",
   "version": "3.11.0rc1"
  }
 },
 "nbformat": 4,
 "nbformat_minor": 5
}
